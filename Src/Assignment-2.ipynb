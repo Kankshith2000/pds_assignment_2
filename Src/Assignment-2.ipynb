{
 "cells": [
  {
   "cell_type": "code",
   "execution_count": 36,
   "metadata": {},
   "outputs": [],
   "source": [
    "import pandas as pd\n",
    "from datetime import datetime\n",
    "import matplotlib.pyplot as plt \n",
    "import numpy as np"
   ]
  },
  {
   "cell_type": "code",
   "execution_count": 37,
   "metadata": {},
   "outputs": [],
   "source": [
    "dataset = pd.read_csv('../Data_Raw/train.csv')"
   ]
  },
  {
   "cell_type": "code",
   "execution_count": 38,
   "metadata": {},
   "outputs": [
    {
     "data": {
      "text/html": [
       "<div>\n",
       "<style scoped>\n",
       "    .dataframe tbody tr th:only-of-type {\n",
       "        vertical-align: middle;\n",
       "    }\n",
       "\n",
       "    .dataframe tbody tr th {\n",
       "        vertical-align: top;\n",
       "    }\n",
       "\n",
       "    .dataframe thead th {\n",
       "        text-align: right;\n",
       "    }\n",
       "</style>\n",
       "<table border=\"1\" class=\"dataframe\">\n",
       "  <thead>\n",
       "    <tr style=\"text-align: right;\">\n",
       "      <th></th>\n",
       "      <th>Unnamed: 0</th>\n",
       "      <th>Name</th>\n",
       "      <th>Location</th>\n",
       "      <th>Year</th>\n",
       "      <th>Kilometers_Driven</th>\n",
       "      <th>Fuel_Type</th>\n",
       "      <th>Transmission</th>\n",
       "      <th>Owner_Type</th>\n",
       "      <th>Mileage</th>\n",
       "      <th>Engine</th>\n",
       "      <th>Power</th>\n",
       "      <th>Seats</th>\n",
       "      <th>New_Price</th>\n",
       "      <th>Price</th>\n",
       "    </tr>\n",
       "  </thead>\n",
       "  <tbody>\n",
       "    <tr>\n",
       "      <th>0</th>\n",
       "      <td>1</td>\n",
       "      <td>Hyundai Creta 1.6 CRDi SX Option</td>\n",
       "      <td>Pune</td>\n",
       "      <td>2015</td>\n",
       "      <td>41000</td>\n",
       "      <td>Diesel</td>\n",
       "      <td>Manual</td>\n",
       "      <td>First</td>\n",
       "      <td>19.67 kmpl</td>\n",
       "      <td>1582 CC</td>\n",
       "      <td>126.2 bhp</td>\n",
       "      <td>5.0</td>\n",
       "      <td>NaN</td>\n",
       "      <td>12.50</td>\n",
       "    </tr>\n",
       "    <tr>\n",
       "      <th>1</th>\n",
       "      <td>2</td>\n",
       "      <td>Honda Jazz V</td>\n",
       "      <td>Chennai</td>\n",
       "      <td>2011</td>\n",
       "      <td>46000</td>\n",
       "      <td>Petrol</td>\n",
       "      <td>Manual</td>\n",
       "      <td>First</td>\n",
       "      <td>13 km/kg</td>\n",
       "      <td>1199 CC</td>\n",
       "      <td>88.7 bhp</td>\n",
       "      <td>5.0</td>\n",
       "      <td>8.61 Lakh</td>\n",
       "      <td>4.50</td>\n",
       "    </tr>\n",
       "    <tr>\n",
       "      <th>2</th>\n",
       "      <td>3</td>\n",
       "      <td>Maruti Ertiga VDI</td>\n",
       "      <td>Chennai</td>\n",
       "      <td>2012</td>\n",
       "      <td>87000</td>\n",
       "      <td>Diesel</td>\n",
       "      <td>Manual</td>\n",
       "      <td>First</td>\n",
       "      <td>20.77 kmpl</td>\n",
       "      <td>1248 CC</td>\n",
       "      <td>88.76 bhp</td>\n",
       "      <td>7.0</td>\n",
       "      <td>NaN</td>\n",
       "      <td>6.00</td>\n",
       "    </tr>\n",
       "    <tr>\n",
       "      <th>3</th>\n",
       "      <td>4</td>\n",
       "      <td>Audi A4 New 2.0 TDI Multitronic</td>\n",
       "      <td>Coimbatore</td>\n",
       "      <td>2013</td>\n",
       "      <td>40670</td>\n",
       "      <td>Diesel</td>\n",
       "      <td>Automatic</td>\n",
       "      <td>Second</td>\n",
       "      <td>15.2 kmpl</td>\n",
       "      <td>1968 CC</td>\n",
       "      <td>140.8 bhp</td>\n",
       "      <td>5.0</td>\n",
       "      <td>NaN</td>\n",
       "      <td>17.74</td>\n",
       "    </tr>\n",
       "    <tr>\n",
       "      <th>4</th>\n",
       "      <td>6</td>\n",
       "      <td>Nissan Micra Diesel XV</td>\n",
       "      <td>Jaipur</td>\n",
       "      <td>2013</td>\n",
       "      <td>86999</td>\n",
       "      <td>Diesel</td>\n",
       "      <td>Manual</td>\n",
       "      <td>First</td>\n",
       "      <td>23.08 kmpl</td>\n",
       "      <td>1461 CC</td>\n",
       "      <td>63.1 bhp</td>\n",
       "      <td>5.0</td>\n",
       "      <td>NaN</td>\n",
       "      <td>3.50</td>\n",
       "    </tr>\n",
       "  </tbody>\n",
       "</table>\n",
       "</div>"
      ],
      "text/plain": [
       "   Unnamed: 0                              Name    Location  Year  \\\n",
       "0           1  Hyundai Creta 1.6 CRDi SX Option        Pune  2015   \n",
       "1           2                      Honda Jazz V     Chennai  2011   \n",
       "2           3                 Maruti Ertiga VDI     Chennai  2012   \n",
       "3           4   Audi A4 New 2.0 TDI Multitronic  Coimbatore  2013   \n",
       "4           6            Nissan Micra Diesel XV      Jaipur  2013   \n",
       "\n",
       "   Kilometers_Driven Fuel_Type Transmission Owner_Type     Mileage   Engine  \\\n",
       "0              41000    Diesel       Manual      First  19.67 kmpl  1582 CC   \n",
       "1              46000    Petrol       Manual      First    13 km/kg  1199 CC   \n",
       "2              87000    Diesel       Manual      First  20.77 kmpl  1248 CC   \n",
       "3              40670    Diesel    Automatic     Second   15.2 kmpl  1968 CC   \n",
       "4              86999    Diesel       Manual      First  23.08 kmpl  1461 CC   \n",
       "\n",
       "       Power  Seats  New_Price  Price  \n",
       "0  126.2 bhp    5.0        NaN  12.50  \n",
       "1   88.7 bhp    5.0  8.61 Lakh   4.50  \n",
       "2  88.76 bhp    7.0        NaN   6.00  \n",
       "3  140.8 bhp    5.0        NaN  17.74  \n",
       "4   63.1 bhp    5.0        NaN   3.50  "
      ]
     },
     "execution_count": 38,
     "metadata": {},
     "output_type": "execute_result"
    }
   ],
   "source": [
    "dataset.head()"
   ]
  },
  {
   "cell_type": "code",
   "execution_count": 39,
   "metadata": {},
   "outputs": [
    {
     "data": {
      "text/plain": [
       "(5847, 14)"
      ]
     },
     "execution_count": 39,
     "metadata": {},
     "output_type": "execute_result"
    }
   ],
   "source": [
    "dataset.shape"
   ]
  },
  {
   "cell_type": "markdown",
   "metadata": {},
   "source": [
    "#### a.Look for the missing values in all the columns and either impute them (replace with mean, median, or mode) or drop them. Justify your action for this task."
   ]
  },
  {
   "cell_type": "code",
   "execution_count": 40,
   "metadata": {},
   "outputs": [
    {
     "name": "stdout",
     "output_type": "stream",
     "text": [
      "Unnamed: 0              0\n",
      "Name                    0\n",
      "Location                0\n",
      "Year                    0\n",
      "Kilometers_Driven       0\n",
      "Fuel_Type               0\n",
      "Transmission            0\n",
      "Owner_Type              0\n",
      "Mileage                 2\n",
      "Engine                 36\n",
      "Power                  36\n",
      "Seats                  38\n",
      "New_Price            5032\n",
      "Price                   0\n",
      "dtype: int64\n"
     ]
    }
   ],
   "source": [
    "print(dataset.isnull().sum())     "
   ]
  },
  {
   "cell_type": "code",
   "execution_count": 41,
   "metadata": {},
   "outputs": [],
   "source": [
    "dataset['Mileage'] = dataset['Mileage'].str.replace(r'\\D', '', regex=True)\n",
    "dataset['Mileage'] = pd.to_numeric(dataset['Mileage'], errors='coerce')\n",
    "dataset['Mileage'].fillna(dataset['Mileage'].mean(), inplace=True)"
   ]
  },
  {
   "cell_type": "code",
   "execution_count": 42,
   "metadata": {},
   "outputs": [],
   "source": [
    "dataset['Power'] = dataset['Power'].str.replace(r'\\D', '', regex=True)\n",
    "dataset['Power'] = pd.to_numeric(dataset['Power'], errors='coerce')\n",
    "dataset['Power'].fillna(dataset['Power'].mean(), inplace=True)"
   ]
  },
  {
   "cell_type": "code",
   "execution_count": 43,
   "metadata": {},
   "outputs": [],
   "source": [
    "dataset['Engine'] = dataset['Engine'].str.replace(r'\\D', '', regex=True)\n",
    "dataset['Engine'] = pd.to_numeric(dataset['Engine'], errors='coerce')\n",
    "dataset['Engine'].fillna(dataset['Engine'].mean(), inplace=True)"
   ]
  },
  {
   "cell_type": "code",
   "execution_count": 44,
   "metadata": {},
   "outputs": [],
   "source": [
    "dataset['Seats'].fillna(dataset['Seats'].mean(), inplace=True)"
   ]
  },
  {
   "cell_type": "code",
   "execution_count": 45,
   "metadata": {},
   "outputs": [
    {
     "name": "stdout",
     "output_type": "stream",
     "text": [
      "Unnamed: 0           0\n",
      "Name                 0\n",
      "Location             0\n",
      "Year                 0\n",
      "Kilometers_Driven    0\n",
      "Fuel_Type            0\n",
      "Transmission         0\n",
      "Owner_Type           0\n",
      "Mileage              0\n",
      "Engine               0\n",
      "Power                0\n",
      "Seats                0\n",
      "Price                0\n",
      "dtype: int64\n"
     ]
    }
   ],
   "source": [
    "dataset.drop(columns=['New_Price'], inplace=True)\n",
    "print(dataset.isnull().sum())"
   ]
  },
  {
   "cell_type": "markdown",
   "metadata": {},
   "source": [
    "### Justification:\n",
    "##### i. The key features of a used car are included in the columns \"Mileage,\" \"Power,\" \"Seats,\" and \"Engine.\" When estimating an automobile's cost, condition, and performance, these characteristics tend to be crucial.\n",
    "##### ii. Removing these columns would make your dataset less dimensional. Additionally, these columns can improve how comprehensible your analysis is.\n",
    "##### iii.New cost  Elevated Missing Values The \"New Price\" data may not be current or of high quality, which could introduce noise or mistakes into our study even if you were to impute missing values."
   ]
  },
  {
   "cell_type": "markdown",
   "metadata": {},
   "source": [
    "#### b.Remove the units from some of the attributes and only keep the numerical values (forexample remove kmpl from “Mileage”, CC from “Engine”, bhp from “Power”, and lakh from“New_price”). "
   ]
  },
  {
   "cell_type": "code",
   "execution_count": 46,
   "metadata": {},
   "outputs": [
    {
     "data": {
      "text/html": [
       "<div>\n",
       "<style scoped>\n",
       "    .dataframe tbody tr th:only-of-type {\n",
       "        vertical-align: middle;\n",
       "    }\n",
       "\n",
       "    .dataframe tbody tr th {\n",
       "        vertical-align: top;\n",
       "    }\n",
       "\n",
       "    .dataframe thead th {\n",
       "        text-align: right;\n",
       "    }\n",
       "</style>\n",
       "<table border=\"1\" class=\"dataframe\">\n",
       "  <thead>\n",
       "    <tr style=\"text-align: right;\">\n",
       "      <th></th>\n",
       "      <th>Unnamed: 0</th>\n",
       "      <th>Name</th>\n",
       "      <th>Location</th>\n",
       "      <th>Year</th>\n",
       "      <th>Kilometers_Driven</th>\n",
       "      <th>Fuel_Type</th>\n",
       "      <th>Transmission</th>\n",
       "      <th>Owner_Type</th>\n",
       "      <th>Mileage</th>\n",
       "      <th>Engine</th>\n",
       "      <th>Power</th>\n",
       "      <th>Seats</th>\n",
       "      <th>Price</th>\n",
       "    </tr>\n",
       "  </thead>\n",
       "  <tbody>\n",
       "    <tr>\n",
       "      <th>0</th>\n",
       "      <td>1</td>\n",
       "      <td>Hyundai Creta 1.6 CRDi SX Option</td>\n",
       "      <td>Pune</td>\n",
       "      <td>2015</td>\n",
       "      <td>41000</td>\n",
       "      <td>Diesel</td>\n",
       "      <td>Manual</td>\n",
       "      <td>First</td>\n",
       "      <td>1967.0</td>\n",
       "      <td>1582.0</td>\n",
       "      <td>1262.0</td>\n",
       "      <td>5.0</td>\n",
       "      <td>12.50</td>\n",
       "    </tr>\n",
       "    <tr>\n",
       "      <th>1</th>\n",
       "      <td>2</td>\n",
       "      <td>Honda Jazz V</td>\n",
       "      <td>Chennai</td>\n",
       "      <td>2011</td>\n",
       "      <td>46000</td>\n",
       "      <td>Petrol</td>\n",
       "      <td>Manual</td>\n",
       "      <td>First</td>\n",
       "      <td>13.0</td>\n",
       "      <td>1199.0</td>\n",
       "      <td>887.0</td>\n",
       "      <td>5.0</td>\n",
       "      <td>4.50</td>\n",
       "    </tr>\n",
       "    <tr>\n",
       "      <th>2</th>\n",
       "      <td>3</td>\n",
       "      <td>Maruti Ertiga VDI</td>\n",
       "      <td>Chennai</td>\n",
       "      <td>2012</td>\n",
       "      <td>87000</td>\n",
       "      <td>Diesel</td>\n",
       "      <td>Manual</td>\n",
       "      <td>First</td>\n",
       "      <td>2077.0</td>\n",
       "      <td>1248.0</td>\n",
       "      <td>8876.0</td>\n",
       "      <td>7.0</td>\n",
       "      <td>6.00</td>\n",
       "    </tr>\n",
       "    <tr>\n",
       "      <th>3</th>\n",
       "      <td>4</td>\n",
       "      <td>Audi A4 New 2.0 TDI Multitronic</td>\n",
       "      <td>Coimbatore</td>\n",
       "      <td>2013</td>\n",
       "      <td>40670</td>\n",
       "      <td>Diesel</td>\n",
       "      <td>Automatic</td>\n",
       "      <td>Second</td>\n",
       "      <td>152.0</td>\n",
       "      <td>1968.0</td>\n",
       "      <td>1408.0</td>\n",
       "      <td>5.0</td>\n",
       "      <td>17.74</td>\n",
       "    </tr>\n",
       "    <tr>\n",
       "      <th>4</th>\n",
       "      <td>6</td>\n",
       "      <td>Nissan Micra Diesel XV</td>\n",
       "      <td>Jaipur</td>\n",
       "      <td>2013</td>\n",
       "      <td>86999</td>\n",
       "      <td>Diesel</td>\n",
       "      <td>Manual</td>\n",
       "      <td>First</td>\n",
       "      <td>2308.0</td>\n",
       "      <td>1461.0</td>\n",
       "      <td>631.0</td>\n",
       "      <td>5.0</td>\n",
       "      <td>3.50</td>\n",
       "    </tr>\n",
       "  </tbody>\n",
       "</table>\n",
       "</div>"
      ],
      "text/plain": [
       "   Unnamed: 0                              Name    Location  Year  \\\n",
       "0           1  Hyundai Creta 1.6 CRDi SX Option        Pune  2015   \n",
       "1           2                      Honda Jazz V     Chennai  2011   \n",
       "2           3                 Maruti Ertiga VDI     Chennai  2012   \n",
       "3           4   Audi A4 New 2.0 TDI Multitronic  Coimbatore  2013   \n",
       "4           6            Nissan Micra Diesel XV      Jaipur  2013   \n",
       "\n",
       "   Kilometers_Driven Fuel_Type Transmission Owner_Type  Mileage  Engine  \\\n",
       "0              41000    Diesel       Manual      First   1967.0  1582.0   \n",
       "1              46000    Petrol       Manual      First     13.0  1199.0   \n",
       "2              87000    Diesel       Manual      First   2077.0  1248.0   \n",
       "3              40670    Diesel    Automatic     Second    152.0  1968.0   \n",
       "4              86999    Diesel       Manual      First   2308.0  1461.0   \n",
       "\n",
       "    Power  Seats  Price  \n",
       "0  1262.0    5.0  12.50  \n",
       "1   887.0    5.0   4.50  \n",
       "2  8876.0    7.0   6.00  \n",
       "3  1408.0    5.0  17.74  \n",
       "4   631.0    5.0   3.50  "
      ]
     },
     "execution_count": 46,
     "metadata": {},
     "output_type": "execute_result"
    }
   ],
   "source": [
    "dataset.head()"
   ]
  },
  {
   "cell_type": "markdown",
   "metadata": {},
   "source": [
    "##### In addressing question 'a' concerning missing values, it became imperative to first ensure that the dataset's numeric attributes were appropriately formatted. Hence, in tackling question 'b', the units were removed from relevant attributes like \"Mileage\", \"Engine\", \"Power\", and \"New_price\", thereby converting them into purely numeric values. This preprocessing step not only facilitated the analysis of missing values but also ensured uniformity in the dataset's numerical representation. Consequently, by resolving question 'b' beforehand, the subsequent task of identifying and handling missing values in question 'a' was conducted on a dataset with standardized numeric attributes, enabling more straightforward imputation or removal decisions based on the nature and distribution of missing data across the dataset."
   ]
  }
 ],
 "metadata": {
  "kernelspec": {
   "display_name": "Python 3",
   "language": "python",
   "name": "python3"
  },
  "language_info": {
   "codemirror_mode": {
    "name": "ipython",
    "version": 3
   },
   "file_extension": ".py",
   "mimetype": "text/x-python",
   "name": "python",
   "nbconvert_exporter": "python",
   "pygments_lexer": "ipython3",
   "version": "3.7.0"
  }
 },
 "nbformat": 4,
 "nbformat_minor": 2
}
